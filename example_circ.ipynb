{
 "cells": [
  {
   "cell_type": "code",
   "execution_count": 2,
   "id": "5895b01a-b068-43b4-820a-7585c1c92109",
   "metadata": {},
   "outputs": [],
   "source": [
    "import numpy as np\n",
    "from qiskit import QuantumCircuit, Aer, execute\n"
   ]
  },
  {
   "cell_type": "code",
   "execution_count": 13,
   "id": "cfe47392-523b-43bc-a5d1-dec3ebf16893",
   "metadata": {},
   "outputs": [
    {
     "data": {
      "text/html": [
       "<pre style=\"word-wrap: normal;white-space: pre;background: #fff0;line-height: 1.1;font-family: &quot;Courier New&quot;,Courier,monospace\">     ┌───┐     ┌─┐\n",
       "q_0: ┤ X ├──■──┤M├\n",
       "     ├───┤┌─┴─┐└╥┘\n",
       "q_1: ┤ H ├┤ X ├─╫─\n",
       "     └───┘└───┘ ║ \n",
       "c: 2/═══════════╩═\n",
       "                0 </pre>"
      ],
      "text/plain": [
       "     ┌───┐     ┌─┐\n",
       "q_0: ┤ X ├──■──┤M├\n",
       "     ├───┤┌─┴─┐└╥┘\n",
       "q_1: ┤ H ├┤ X ├─╫─\n",
       "     └───┘└───┘ ║ \n",
       "c: 2/═══════════╩═\n",
       "                0 "
      ]
     },
     "execution_count": 13,
     "metadata": {},
     "output_type": "execute_result"
    }
   ],
   "source": [
    "qc = QuantumCircuit(2,2)\n",
    "qc.x(0)\n",
    "qc.h(1)\n",
    "qc.cx(0,1)\n",
    "qc.measure(0,0)\n",
    "qc.draw()"
   ]
  }
 ],
 "metadata": {
  "kernelspec": {
   "display_name": "Python 3 (ipykernel)",
   "language": "python",
   "name": "python3"
  },
  "language_info": {
   "codemirror_mode": {
    "name": "ipython",
    "version": 3
   },
   "file_extension": ".py",
   "mimetype": "text/x-python",
   "name": "python",
   "nbconvert_exporter": "python",
   "pygments_lexer": "ipython3",
   "version": "3.9.7"
  }
 },
 "nbformat": 4,
 "nbformat_minor": 5
}
